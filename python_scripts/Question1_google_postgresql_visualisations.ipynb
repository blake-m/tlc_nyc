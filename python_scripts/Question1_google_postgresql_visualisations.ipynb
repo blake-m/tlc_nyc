{
 "cells": [
  {
   "cell_type": "code",
   "execution_count": 1,
   "metadata": {},
   "outputs": [],
   "source": [
    "import numpy as np\n",
    "import pandas as pd\n",
    "import matplotlib.pyplot as plt\n",
    "import seaborn as sns"
   ]
  },
  {
   "cell_type": "code",
   "execution_count": 2,
   "metadata": {},
   "outputs": [],
   "source": [
    "day_of_week_counts = pd.read_csv(r\"C:\\Users\\blaze\\Desktop\\Python Files\\tlc_nyc\\results_from_google_cloud\\day_of_week_counts_gc.csv\")"
   ]
  },
  {
   "cell_type": "code",
   "execution_count": 3,
   "metadata": {},
   "outputs": [
    {
     "name": "stderr",
     "output_type": "stream",
     "text": [
      "C:\\Users\\blaze\\Anaconda3\\lib\\site-packages\\IPython\\core\\interactiveshell.py:3267: FutureWarning: specifying 'categories' or 'ordered' in .astype() is deprecated; pass a CategoricalDtype instead\n",
      "  exec(code_obj, self.user_global_ns, self.user_ns)\n"
     ]
    },
    {
     "data": {
      "text/html": [
       "<div>\n",
       "<style scoped>\n",
       "    .dataframe tbody tr th:only-of-type {\n",
       "        vertical-align: middle;\n",
       "    }\n",
       "\n",
       "    .dataframe tbody tr th {\n",
       "        vertical-align: top;\n",
       "    }\n",
       "\n",
       "    .dataframe thead th {\n",
       "        text-align: right;\n",
       "    }\n",
       "</style>\n",
       "<table border=\"1\" class=\"dataframe\">\n",
       "  <thead>\n",
       "    <tr style=\"text-align: right;\">\n",
       "      <th></th>\n",
       "      <th>day_of_week_word</th>\n",
       "      <th>day_of_week_count_all</th>\n",
       "      <th>day_of_week_count_green</th>\n",
       "      <th>day_of_week_count_yellow</th>\n",
       "    </tr>\n",
       "  </thead>\n",
       "  <tbody>\n",
       "    <tr>\n",
       "      <th>0</th>\n",
       "      <td>Tuesday</td>\n",
       "      <td>23092830</td>\n",
       "      <td>1832812</td>\n",
       "      <td>21260018</td>\n",
       "    </tr>\n",
       "    <tr>\n",
       "      <th>1</th>\n",
       "      <td>Monday</td>\n",
       "      <td>24755579</td>\n",
       "      <td>2403479</td>\n",
       "      <td>22352100</td>\n",
       "    </tr>\n",
       "    <tr>\n",
       "      <th>2</th>\n",
       "      <td>Wednesday</td>\n",
       "      <td>24782465</td>\n",
       "      <td>1901826</td>\n",
       "      <td>22880639</td>\n",
       "    </tr>\n",
       "    <tr>\n",
       "      <th>3</th>\n",
       "      <td>Friday</td>\n",
       "      <td>26284577</td>\n",
       "      <td>2166242</td>\n",
       "      <td>24118335</td>\n",
       "    </tr>\n",
       "    <tr>\n",
       "      <th>4</th>\n",
       "      <td>Thursday</td>\n",
       "      <td>26315848</td>\n",
       "      <td>2116223</td>\n",
       "      <td>24199625</td>\n",
       "    </tr>\n",
       "    <tr>\n",
       "      <th>5</th>\n",
       "      <td>Saturday</td>\n",
       "      <td>27438459</td>\n",
       "      <td>2529861</td>\n",
       "      <td>24908598</td>\n",
       "    </tr>\n",
       "    <tr>\n",
       "      <th>6</th>\n",
       "      <td>Sunday</td>\n",
       "      <td>28281604</td>\n",
       "      <td>2886558</td>\n",
       "      <td>25395046</td>\n",
       "    </tr>\n",
       "  </tbody>\n",
       "</table>\n",
       "</div>"
      ],
      "text/plain": [
       "  day_of_week_word  day_of_week_count_all  day_of_week_count_green  \\\n",
       "0          Tuesday               23092830                  1832812   \n",
       "1           Monday               24755579                  2403479   \n",
       "2        Wednesday               24782465                  1901826   \n",
       "3           Friday               26284577                  2166242   \n",
       "4         Thursday               26315848                  2116223   \n",
       "5         Saturday               27438459                  2529861   \n",
       "6           Sunday               28281604                  2886558   \n",
       "\n",
       "   day_of_week_count_yellow  \n",
       "0                  21260018  \n",
       "1                  22352100  \n",
       "2                  22880639  \n",
       "3                  24118335  \n",
       "4                  24199625  \n",
       "5                  24908598  \n",
       "6                  25395046  "
      ]
     },
     "execution_count": 3,
     "metadata": {},
     "output_type": "execute_result"
    }
   ],
   "source": [
    "cats = [ 'Monday', 'Tuesday', 'Wednesday', 'Thursday', 'Friday', 'Saturday', 'Sunday']\n",
    "\n",
    "day_of_week_counts['day_of_week_word'] = \\\n",
    "    day_of_week_counts['day_of_week_word'].astype('category', categories=cats, ordered=True)\n",
    "\n",
    "day_of_week_counts"
   ]
  },
  {
   "cell_type": "code",
   "execution_count": 4,
   "metadata": {},
   "outputs": [],
   "source": [
    "def plot_counts_by_days(y: str, title:str):\n",
    "    plot = sns.catplot(x=\"day_of_week_word\", y=y, data=day_of_week_counts,\n",
    "                       height=7, kind=\"bar\", palette=\"muted\")\n",
    "    plot.despine(left=True)\n",
    "    plot.set_ylabels(\"trip counts\")\n",
    "    plot.set_xlabels(\"day\")\n",
    "    plt.title(title)"
   ]
  },
  {
   "cell_type": "code",
   "execution_count": 5,
   "metadata": {},
   "outputs": [
    {
     "data": {
      "image/png": "[encoded data removed]",
      "text/plain": [
       "<Figure size 504x504 with 1 Axes>"
      ]
     },
     "metadata": {
      "needs_background": "light"
     },
     "output_type": "display_data"
    },
    {
     "data": {
      "image/png": "[encoded data removed]",
      "text/plain": [
       "<Figure size 504x504 with 1 Axes>"
      ]
     },
     "metadata": {
      "needs_background": "light"
     },
     "output_type": "display_data"
    },
    {
     "data": {
      "image/png": "[encoded data removed]",
      "text/plain": [
       "<Figure size 504x504 with 1 Axes>"
      ]
     },
     "metadata": {
      "needs_background": "light"
     },
     "output_type": "display_data"
    }
   ],
   "source": [
    "plot_counts_by_days(\"day_of_week_count_all\", \"All Cabs\")\n",
    "plot_counts_by_days(\"day_of_week_count_green\", \"Green Cabs Only\")\n",
    "plot_counts_by_days(\"day_of_week_count_yellow\", \"Yellow Cabs Only\")"
   ]
  }
 ],
 "metadata": {
  "kernelspec": {
   "display_name": "Python 3",
   "language": "python",
   "name": "python3"
  },
  "language_info": {
   "codemirror_mode": {
    "name": "ipython",
    "version": 3
   },
   "file_extension": ".py",
   "mimetype": "text/x-python",
   "name": "python",
   "nbconvert_exporter": "python",
   "pygments_lexer": "ipython3",
   "version": "3.7.1"
  }
 },
 "nbformat": 4,
 "nbformat_minor": 2
}
